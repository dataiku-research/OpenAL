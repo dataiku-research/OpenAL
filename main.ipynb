{
 "cells": [
  {
   "cell_type": "markdown",
   "metadata": {},
   "source": [
    "**Reminder about how to run the benchamrk**\n",
    "\n",
    "You have 3 steps to realize in order to run the benchmark:\n",
    "- Define your sampler in the ``my_sampler.py`` file\n",
    "- Define it's custom input parameters inside the ``get_my_sampler`` function\n",
    "- Define ``dataset_id`` in order to define the dataset studied"
   ]
  },
  {
   "cell_type": "markdown",
   "metadata": {},
   "source": [
    "##### Your custom sampler"
   ]
  },
  {
   "cell_type": "code",
   "execution_count": null,
   "metadata": {},
   "outputs": [],
   "source": [
    "# Don't forget to define your custom sampler in the my_sampler.py file"
   ]
  },
  {
   "cell_type": "markdown",
   "metadata": {},
   "source": [
    "##### Sampler generator"
   ]
  },
  {
   "cell_type": "code",
   "execution_count": null,
   "metadata": {},
   "outputs": [],
   "source": [
    "from my_sampler import MyCustomSamplerClass\n",
    "\n",
    "def get_my_sampler(params : dict) : \n",
    "    \"\"\"\n",
    "    Function used to instanciate your sampler with it's parameters\n",
    "\n",
    "    Parameters:\n",
    "        params : parameters that will be passed to generated your sampler with automatically generated ’batch_size’, ’classifier’, 'iteration' and ’random_state’ according to the selected dataset, current AL iteration and the current seed used\n",
    "        You can remove these parameters from the initialisation parameters below if they are not used inside your custom sampler\n",
    "    \"\"\"\n",
    "\n",
    "    # TODO : add your custom sampler parameters and remove the default ones if not useful\n",
    "    sampler = MyCustomSamplerClass(\n",
    "        # remove some of these parameters if not useful\n",
    "        batch_size = params['batch_size'],\n",
    "        classifier = params['clf'],\n",
    "        iteration = params['iteration'],    # AL iteration\n",
    "        random_state = params['seed'],      # Important for reproducibility purpose (Use it as much as possible)\n",
    "        \n",
    "        # add you custom parameters here\n",
    "\n",
    "    )\n",
    "\n",
    "    return sampler"
   ]
  },
  {
   "cell_type": "markdown",
   "metadata": {},
   "source": [
    "##### Main code\n",
    "\n",
    "*Available datasets :*\n",
    "\n",
    "> *1461, 1471, 1502, 1590, 40922, 41138, 42395, 43439, 43551, 42803, 41162, 'cifar10', 'cifar10_simclr', 'mnist'*\n",
    "\n",
    "*Check the project description on GitHub to find more informations about their characteristics*"
   ]
  },
  {
   "cell_type": "code",
   "execution_count": null,
   "metadata": {},
   "outputs": [],
   "source": [
    "from main_run import run_benchmark\n",
    "\n",
    "# TODO : INSERT THE DATASET ID\n",
    "dataset_id = 1461\n",
    "\n",
    "#TODO you might need to remove the previous result folder (with the same dataset id) before doing another run of the benchmark\n",
    "! rm -r results_1461\n",
    "\n",
    "new_sampler_generator = get_my_sampler\n",
    "\n",
    "sampler_name = 'my_custom_sampler'  #TODO : change the name of your sampler if you want to\n",
    "\n",
    "run_benchmark(dataset_id, new_sampler_generator=new_sampler_generator, sampler_name=sampler_name)"
   ]
  }
 ],
 "metadata": {
  "kernelspec": {
   "display_name": "Python 3.10.4 ('machinelearning-3.10')",
   "language": "python",
   "name": "python3"
  },
  "language_info": {
   "codemirror_mode": {
    "name": "ipython",
    "version": 3
   },
   "file_extension": ".py",
   "mimetype": "text/x-python",
   "name": "python",
   "nbconvert_exporter": "python",
   "pygments_lexer": "ipython3",
   "version": "3.10.4"
  },
  "orig_nbformat": 4,
  "vscode": {
   "interpreter": {
    "hash": "a56b0b61e4669804184cb5167432b971847ca7df254a719a873834111c09cd7e"
   }
  }
 },
 "nbformat": 4,
 "nbformat_minor": 2
}
