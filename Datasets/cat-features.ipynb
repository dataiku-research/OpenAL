{
 "cells": [
  {
   "cell_type": "markdown",
   "metadata": {},
   "source": [
    "Notebook pour m'aider à filtrer les features, leur représentativité etc et juger si elles sont catégorielels ou non"
   ]
  },
  {
   "cell_type": "code",
   "execution_count": 2,
   "metadata": {},
   "outputs": [],
   "source": [
    "import numpy as np\n",
    "from matplotlib import pyplot as plt\n",
    "from scipy.stats import norm\n",
    "from sklearn.preprocessing import MinMaxScaler, OneHotEncoder, StandardScaler\n",
    "from sklearn.compose import ColumnTransformer\n",
    "from sklearn.ensemble import GradientBoostingClassifier\n",
    "from sklearn.model_selection import train_test_split\n",
    "import pandas as pd\n",
    "# !pip install openml\n",
    "import openml\n",
    "# !pip install cardinal\n",
    "# !pip install scikit-learn==0.20.4\n",
    "# !pip install sklearn.cluster._k_means_fast\n",
    "from cardinal.uncertainty import MarginSampler\n",
    "from cardinal.random import RandomSampler\n",
    "from cardinal.zhdanov2019 import TwoStepKMeansSampler\n",
    "from cardinal.plotting import plot_confidence_interval\n",
    "import tqdm\n",
    "\n",
    "\n",
    "import os\n",
    "import tensorflow as tf\n",
    "from sklearn.model_selection import KFold, StratifiedKFold\n",
    "from tensorflow.keras.callbacks import EarlyStopping\n",
    "from tensorflow.keras.models import clone_model"
   ]
  },
  {
   "cell_type": "code",
   "execution_count": 3,
   "metadata": {},
   "outputs": [],
   "source": [
    "np.random.seed(123)"
   ]
  },
  {
   "cell_type": "markdown",
   "metadata": {},
   "source": [
    "# Détermination manuelle des features catégorielles OpenML"
   ]
  },
  {
   "cell_type": "code",
   "execution_count": 4,
   "metadata": {},
   "outputs": [],
   "source": [
    "dataset_ids = [1471, 1502, 40922, 41162, 43551, 1461, 1590, 41138, 42395, 42803, 43439]  "
   ]
  },
  {
   "cell_type": "code",
   "execution_count": 55,
   "metadata": {},
   "outputs": [
    {
     "name": "stdout",
     "output_type": "stream",
     "text": [
      "28\n"
     ]
    }
   ],
   "source": [
    "dataset = openml.datasets.get_dataset(42803)\n",
    "X, y, cat_indicator, names = dataset.get_data(dataset_format='dataframe', target=dataset.default_target_attribute)  #dataframe / array\n",
    "cat_indicator = np.asarray(cat_indicator)\n",
    "\n",
    "start_index = 0\n",
    "# print(\"Nb features : \", len(X.columns))\n",
    "# print()\n",
    "\n",
    "i=0\n",
    "for feat_name, cat_bool in zip(X.columns[start_index:], cat_indicator[start_index:]):\n",
    "    # if len(np.unique(X[feat_name])) <500:\n",
    "    # print(cat_bool, feat_name, \"            \", X[feat_name][0])\n",
    "    # print(cat_bool, feat_name,  \"       \",len(np.unique(X[feat_name])), np.unique(X[feat_name]) )#   np.unique(X[feat_name]) '        SAMPLE:',X[feat_name][:1])\n",
    "        # print()\n",
    "\n",
    "\n",
    "    if feat_name == \"Date\":\n",
    "        print(i)\n",
    "    #     # print(len(np.unique(X[\"LSOA_of_Accident_Location\"])))\n",
    "    #     # print(X[\"LSOA_of_Accident_Location\"])\n",
    "    #     # if float(\"nan\") in X[feat_name].values:\n",
    "    #     #     print(\"None found\")\n",
    "\n",
    "    # print(X[feat_name].values)\n",
    "\n",
    "\n",
    "    # if 11.0 in X[feat_name].values:\n",
    "    #     print(i, feat_name,\"       \", list(X[feat_name].values).count(11.0))\n",
    "    i+=1\n",
    "\n",
    "\n",
    "# X\n",
    "\n",
    "#features incertaines: \n",
    "\n",
    "# idx feat problématiques/inanalysables pour le dataset de voitures :  28, 30,32, 50\n",
    "\n",
    "# todo cat : Vehicle_Reference_df_res, Vehicle_Type, Towing_and_Articulation, Vehicle_Manoeuvre, Vehicle_Location-Restricted_Lane, Junction_Location, Skidding_and_Overturning, Hit_Object_in_Carriageway, Vehicle_Leaving_Carriageway, Hit_Object_off_Carriageway, 1st_Point_of_Impact, Was_Vehicle_Left_Hand_Drive?, Journey_Purpose_of_Driver"
   ]
  },
  {
   "cell_type": "code",
   "execution_count": 43,
   "metadata": {},
   "outputs": [
    {
     "name": "stdout",
     "output_type": "stream",
     "text": [
      "140056\n",
      "['201501BS70001' '201501BS70002' '201501BS70004' ... '2015984140215'\n",
      " '2015984140515' '2015984141415']\n"
     ]
    }
   ],
   "source": [
    "feat_name = 'Accident_Index'\n",
    "print(len(np.unique(X[feat_name])))\n",
    "print(np.unique(X[feat_name]))\n",
    "\n",
    "\n",
    "#add cat VehYear, VehicleAge"
   ]
  },
  {
   "cell_type": "code",
   "execution_count": 40,
   "metadata": {},
   "outputs": [
    {
     "name": "stdout",
     "output_type": "stream",
     "text": [
      "[False  True  True  True  True False  True  True  True  True  True  True\n",
      "  True  True False  True False  True False  True False False False False\n",
      "  True  True  True  True False  True False  True False  True False  True\n",
      "  True  True  True  True False  True  True  True  True  True False False\n",
      "  True  True False  True  True  True  True False  True  True  True  True\n",
      "  True  True  True  True  True  True]\n"
     ]
    }
   ],
   "source": [
    "to_cat = ['Vehicle_Reference_df_res', 'Vehicle_Type', 'Towing_and_Articulation', 'Vehicle_Manoeuvre', 'Restricted_Lane', 'Junction_Location', 'Skidding_and_Overturning', 'Hit_Object_in_Carriageway', 'Vehicle_Leaving_Carriageway', 'Hit_Object_off_Carriageway',\n",
    "'Vehicle_Leaving_Carriageway', 'Hit_Object_off_Carriageway', '1st_Point_of_Impact', 'Was_Vehicle_Left_Hand_Drive?', 'Journey_Purpose_of_Driver', 'Age_Band_of_Driver', 'Propulsion_Code','Driver_Home_Area_Type', 'Police_Force', 'Accident_Severity', 'Number_of_Vehicles', 'Number_of_Casualties',\n",
    "'Day_of_Week', 'Local_Authority_(District)', '1st_Road_Class', 'Road_Type', 'Speed_limit', 'Junction_Detail', 'Junction_Control', '2nd_Road_Class','Pedestrian_Crossing-Human_Control', 'Pedestrian_Crossing-Physical_Facilities', 'Light_Conditions' , 'Weather_Conditions' , 'Road_Surface_Conditions', \n",
    "'Urban_or_Rural_Area', 'Did_Police_Officer_Attend_Scene_of_Accident','Vehicle_Reference_df', 'Casualty_Reference', 'Casualty_Class', 'Sex_of_Casualty', 'Age_Band_of_Casualty', 'Casualty_Severity', 'Pedestrian_Location','Pedestrian_Movement', 'Car_Passenger', 'Bus_or_Coach_Passenger', \n",
    "'Pedestrian_Road_Maintenance_Worker', 'Casualty_Type', 'Casualty_Home_Area_Type', 'Casualty_IMD_Decile']\n",
    "cat_indicator_TRUE = cat_indicator\n",
    "\n",
    "for index, feat_name in enumerate(X.columns):\n",
    "    if feat_name in to_cat:\n",
    "        cat_indicator_TRUE[index] = True #\"CAT\"\n",
    "    else:\n",
    "        # print (\"hop\")\n",
    "        cat_indicator_TRUE[index] = False#\"NUM\"\n",
    "\n",
    "print(cat_indicator_TRUE)"
   ]
  },
  {
   "cell_type": "markdown",
   "metadata": {},
   "source": [
    "### Examen features incertaines"
   ]
  },
  {
   "cell_type": "code",
   "execution_count": 149,
   "metadata": {},
   "outputs": [
    {
     "name": "stdout",
     "output_type": "stream",
     "text": [
      "41\n",
      "[  0.   1.   2.   3.   4.   5.   6.   7.   8.   9.  10.  11.  12.  13.\n",
      "  14.  15.  16.  17.  18.  19.  20.  21.  22.  23.  24.  25.  26.  27.\n",
      "  28.  29.  30.  32.  35.  37.  38.  40.  41.  51.  55.  58. 275.]\n"
     ]
    }
   ],
   "source": [
    "#features incertaines: education-num, hours-per-week\n",
    "feat = \"V15\"\n",
    "print(len(np.unique(X[feat])))\n",
    "print(np.unique(X[feat]))"
   ]
  },
  {
   "cell_type": "markdown",
   "metadata": {},
   "source": [
    "### 43439\n",
    "\n",
    "Drop: PatientId, AppointmentId\n",
    "\n",
    "Cat: Gender, ScheduledDay, AppointmentDay Neighbourhood, Scholarship, Hipertension, Diabetes, Alcoholism, Handcap, SMS_received\n",
    "Numeric: Age\n",
    "\n",
    "\n",
    "### 43551\n",
    "\n",
    "Add cat : is_male, logical_score, verbal_score\n",
    "\n",
    "### 1461\n",
    "\n",
    "Add cat : V1, V13, V15  \n",
    "\n",
    "### 1590\n",
    "\n",
    "Add cat : education-num, hours-per-week\n",
    "\n",
    "### 41138\n",
    "\n",
    "Suspicieux catégorie ? \"eg_000\" comme nombreux autres"
   ]
  },
  {
   "cell_type": "markdown",
   "metadata": {},
   "source": []
  },
  {
   "cell_type": "code",
   "execution_count": null,
   "metadata": {},
   "outputs": [],
   "source": []
  }
 ],
 "metadata": {
  "interpreter": {
   "hash": "a56b0b61e4669804184cb5167432b971847ca7df254a719a873834111c09cd7e"
  },
  "kernelspec": {
   "display_name": "Python 3.10.4 ('machinelearning-3.10')",
   "language": "python",
   "name": "python3"
  },
  "language_info": {
   "codemirror_mode": {
    "name": "ipython",
    "version": 3
   },
   "file_extension": ".py",
   "mimetype": "text/x-python",
   "name": "python",
   "nbconvert_exporter": "python",
   "pygments_lexer": "ipython3",
   "version": "3.10.4"
  },
  "orig_nbformat": 4
 },
 "nbformat": 4,
 "nbformat_minor": 2
}
